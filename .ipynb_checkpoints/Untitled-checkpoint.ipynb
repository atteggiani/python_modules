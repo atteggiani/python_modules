{
 "cells": [
  {
   "cell_type": "code",
   "execution_count": 1,
   "metadata": {},
   "outputs": [],
   "source": [
    "def plotlev(\n",
    "                title = None,\n",
    "                units = None,\n",
    "                t_student=False,\n",
    "                outpath = None,\n",
    "                save_kwargs = None,\n",
    "                **contourf_kwargs):\n",
    "    print(contourf_kwargs)\n",
    "#         ax = plt.axes() if 'ax' not in contourf_kwargs else contourf_kwargs.pop('ax')\n",
    "#         yincrease = False if 'yincrease' not in contourf_kwargs else contourf_kwargs.pop('yincrease')\n",
    "#         if ('add_colorbar' not in contourf_kwargs):contourf_kwargs['add_colorbar']=True\n",
    "#         if contourf_kwargs['add_colorbar']==True:\n",
    "#             if 'cbar_kwargs' in contourf_kwargs:\n",
    "#                 cbar_kwargs=contourf_kwargs.pop('cbar_kwargs')\n",
    "#         if units is not None:\n",
    "#             cbar_kwargs['label']=units\n",
    "#         im=self.plot.contourf(ax=ax,\n",
    "#                     yincrease=yincrease,\n",
    "#                     **cbar_kwargs,\n",
    "#                     **contourf_kwargs,\n",
    "#                     )\n",
    "#         if isinstance(t_student,bool):\n",
    "#             if t_student:\n",
    "#                 raise Exception('t_student must be False, or equal to either a dictionary or an '\n",
    "#                         'xarray.DataArray containing t-student distribution probabilities.')\n",
    "#         else:\n",
    "#             if check_xarray(t_student,\"DataArray\"):\n",
    "#                 _check_shapes(t_student,self)\n",
    "#                 t_student = {\"p\":t_student}\n",
    "#             if isinstance(t_student,dict):\n",
    "#                 if \"p\" not in t_student:\n",
    "#                     raise Exception('t_student must be contain \"p\" key, containing '\n",
    "#                         'an xarray.DataArray with t-student distribution '\n",
    "#                         'probabilities.\\nTo obtain t_student distribution '\n",
    "#                         'probabilities, you can use the \"t_student_probability\" function.')\n",
    "#                 if \"treshold\" in t_student:\n",
    "#                     if t_student[\"treshold\"] > 1:\n",
    "#                         raise Exception(\"Treshold must be <= 1\")\n",
    "#                 else:\n",
    "#                     t_student[\"treshold\"]=0.05\n",
    "#                 if \"hatches\" not in t_student:\n",
    "#                     t_student[\"hatches\"]= '///'\n",
    "#             else:\n",
    "#                 raise Exception('t_student must be either a dictionary or an '\n",
    "#                         'xarray.DataArray containing t-student distribution probabilities.')\n",
    "#             p=t_student[\"p\"]\n",
    "#             a=t_student[\"treshold\"]\n",
    "#             DataArray(p.where(p<a).where(p>=a,1)).plot.contourf(\n",
    "#                                                 ax=ax,\n",
    "#                                                 yincrease=yincrease,\n",
    "#                                                 hatches=[t_student['hatches']],\n",
    "#                                                 alpha=0,\n",
    "#                                                 add_colorbar=False,\n",
    "#                                                 )\n",
    "#         plt.xlabel(\"\")\n",
    "#         plt.xticks(ticks=np.arange(-90,90+30,30),labels=[\"90S\",\"60S\",\"30S\",\"0\",\"30N\",\"60N\",\"90N\"])\n",
    "#         plt.gca().xaxis.set_minor_locator(MultipleLocator(10))\n",
    "#         plt.tick_params(axis='y',which='minor',left=False,right=False)\n",
    "#         plt.tick_params(axis='y',which='major',left=True,right=True)\n",
    "#         plt.tick_params(axis='x',which='both',bottom=True,top=True)\n",
    "#         plt.title(title)\n",
    "#         if save_kwargs is not None:\n",
    "#             save_kwargs = {'dpi':300, 'bbox_inches':'tight', **save_kwargs}\n",
    "#         else:\n",
    "#             save_kwargs = {'dpi':300, 'bbox_inches':'tight'}\n",
    "#         if outpath is not None:\n",
    "#             plt.savefig(outpath, format = 'png',**save_kwargs)\n",
    "#         return im"
   ]
  },
  {
   "cell_type": "code",
   "execution_count": 2,
   "metadata": {},
   "outputs": [
    {
     "ename": "TypeError",
     "evalue": "plotlev() missing 1 required positional argument: 'self'",
     "output_type": "error",
     "traceback": [
      "\u001b[0;31m---------------------------------------------------------------------------\u001b[0m",
      "\u001b[0;31mTypeError\u001b[0m                                 Traceback (most recent call last)",
      "\u001b[0;32m<ipython-input-2-7ad8b9ee148c>\u001b[0m in \u001b[0;36m<module>\u001b[0;34m\u001b[0m\n\u001b[0;32m----> 1\u001b[0;31m \u001b[0mplotlev\u001b[0m\u001b[0;34m(\u001b[0m\u001b[0;34m)\u001b[0m\u001b[0;34m\u001b[0m\u001b[0;34m\u001b[0m\u001b[0m\n\u001b[0m",
      "\u001b[0;31mTypeError\u001b[0m: plotlev() missing 1 required positional argument: 'self'"
     ]
    }
   ],
   "source": [
    "plotlev()"
   ]
  },
  {
   "cell_type": "code",
   "execution_count": null,
   "metadata": {},
   "outputs": [],
   "source": []
  }
 ],
 "metadata": {
  "kernelspec": {
   "display_name": "Python 3",
   "language": "python",
   "name": "python3"
  },
  "language_info": {
   "codemirror_mode": {
    "name": "ipython",
    "version": 3
   },
   "file_extension": ".py",
   "mimetype": "text/x-python",
   "name": "python",
   "nbconvert_exporter": "python",
   "pygments_lexer": "ipython3",
   "version": "3.7.8"
  }
 },
 "nbformat": 4,
 "nbformat_minor": 4
}
